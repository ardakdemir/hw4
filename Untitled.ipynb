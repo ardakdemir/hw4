{
 "cells": [
  {
   "cell_type": "markdown",
   "metadata": {},
   "source": [
    "## Homework 4 \n",
    "\n",
    "#### 25.3\n",
    "\n",
    "##### part a) \n",
    "    This matrix can be obtained by using HouseHolder Reflectors. Left multiplication can be used to put entries in the lower half of the matrix and right multiplication can be used for the upper right corner. Two left and one right multiplication will be suffice. So (ii) holds\n",
    "    \n",
    "##### part b)\n",
    "    For this matrix which is very similar to part a we need both left and right multiplication. Left multiplication to put zeros on the lower half and on the middle. Then right multiplication for upper right corner. So (ii) is true for b.\n",
    "##### part c)\n",
    "    This matrix is singular. We can not obtain a singular matrix by multiplying a matrix with non-singular matrices. Thus, for part c (iii) holds."
   ]
  },
  {
   "cell_type": "code",
   "execution_count": null,
   "metadata": {
    "collapsed": true
   },
   "outputs": [],
   "source": []
  }
 ],
 "metadata": {
  "kernelspec": {
   "display_name": "Python 3",
   "language": "python",
   "name": "python3"
  },
  "language_info": {
   "codemirror_mode": {
    "name": "ipython",
    "version": 3
   },
   "file_extension": ".py",
   "mimetype": "text/x-python",
   "name": "python",
   "nbconvert_exporter": "python",
   "pygments_lexer": "ipython3",
   "version": "3.6.0"
  }
 },
 "nbformat": 4,
 "nbformat_minor": 2
}
